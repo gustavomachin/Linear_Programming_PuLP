{
  "nbformat": 4,
  "nbformat_minor": 0,
  "metadata": {
    "colab": {
      "provenance": [],
      "collapsed_sections": [],
      "include_colab_link": true
    },
    "kernelspec": {
      "display_name": "Python 3",
      "name": "python3"
    }
  },
  "cells": [
    {
      "cell_type": "markdown",
      "metadata": {
        "id": "view-in-github",
        "colab_type": "text"
      },
      "source": [
        "<a href=\"https://colab.research.google.com/github/gustavomachin/Linear_Programming_PuLP/blob/master/Diplomatura_UDA/BA_ProgramacionLineal_Marketing.ipynb\" target=\"_parent\"><img src=\"https://colab.research.google.com/assets/colab-badge.svg\" alt=\"Open In Colab\"/></a>"
      ]
    },
    {
      "cell_type": "markdown",
      "source": [
        "![logo](https://github.com/cristiandarioortegayubro/BA/blob/main/dba.png?raw=true)"
      ],
      "metadata": {
        "id": "ryxT3cyt2DbR"
      }
    },
    {
      "cell_type": "markdown",
      "metadata": {
        "id": "WJAQsOrbL_tU"
      },
      "source": [
        "<center>\n",
        "<font color=\"#41a8c7\">\n",
        "<h2><b>\n",
        "Programación Lineal - Problema de Marketing\n",
        "\n",
        "</font>\n",
        "</center>"
      ]
    },
    {
      "cell_type": "markdown",
      "metadata": {
        "id": "aFDMU-W_5qMZ"
      },
      "source": [
        "## Instalar y cargar las librerías necesarias"
      ]
    },
    {
      "cell_type": "code",
      "source": [
        "! pip install pulp"
      ],
      "metadata": {
        "colab": {
          "base_uri": "https://localhost:8080/"
        },
        "id": "7BkYWYB_2crs",
        "outputId": "a79d3d5f-6757-457e-f0e2-72122ed0add0"
      },
      "execution_count": 1,
      "outputs": [
        {
          "output_type": "stream",
          "name": "stdout",
          "text": [
            "Looking in indexes: https://pypi.org/simple, https://us-python.pkg.dev/colab-wheels/public/simple/\n",
            "Collecting pulp\n",
            "  Downloading PuLP-2.6.0-py3-none-any.whl (14.2 MB)\n",
            "\u001b[K     |████████████████████████████████| 14.2 MB 4.9 MB/s \n",
            "\u001b[?25hInstalling collected packages: pulp\n",
            "Successfully installed pulp-2.6.0\n"
          ]
        }
      ]
    },
    {
      "cell_type": "code",
      "source": [
        "from pulp import *"
      ],
      "metadata": {
        "id": "lEmq2_bB3ZBb"
      },
      "execution_count": 2,
      "outputs": []
    },
    {
      "cell_type": "markdown",
      "source": [
        "## Resumen del caso planteado"
      ],
      "metadata": {
        "id": "UtpUM2A70V26"
      }
    },
    {
      "cell_type": "markdown",
      "source": [
        "Una empresa de desarrollos inmobiliarios, quiere publicitar su nuevo proyecto durante un mes (horizonte temporal de la pauta publicitaria). A priori, ha considerado para llegar a sus clientes potenciales, 4 medios de comunicación.\n",
        "\n",
        "**Medios publicitarios**\n",
        "\n",
        "| Medio | Clientes potenciales alcanzados | Costo por anuncio | Disponibilidad por mes |\n",
        "|---------------|---------|-------------------|--------|\n",
        "|Televisión (30 segundos) |1500 | 2000| 12|\n",
        "|Anuncio Web (banner) |1000 | 400|30|\n",
        "|Diario (domingo, ½ plana a color) |2200 | 1000| 4|\n",
        "|Radio (30 segundos) |200 | 100|30|\n",
        "\n",
        "Además, la empresa tiene un presupuesto publicitario de 30.000 dólares para el primer mes y no se puede gastar más de 10.000 en los anuncios de televisión.\n",
        "\n",
        "Se intenta determinar la cantidad de veces que se utilizará cada medio con el fin de maximizar el las unidades de exposición (alcance publicitario).\n",
        "\n",
        "\n"
      ],
      "metadata": {
        "id": "FbPksbCu0aOS"
      }
    },
    {
      "cell_type": "markdown",
      "source": [
        "## Definir el modelo"
      ],
      "metadata": {
        "id": "Q4oCZWJONT_c"
      }
    },
    {
      "cell_type": "markdown",
      "source": [
        "Se contruye el modelo, que busque minimizar (LpMinimize) o maximizar (LpMaximize). En este caso es un problema de maximización del alcance publicitario."
      ],
      "metadata": {
        "id": "crB_k8WZjG-R"
      }
    },
    {
      "cell_type": "code",
      "source": [
        "modelo = LpProblem(\"Problema_de_Marketing\", sense=LpMaximize)"
      ],
      "metadata": {
        "id": "JGLwkW9ONWB9"
      },
      "execution_count": 3,
      "outputs": []
    },
    {
      "cell_type": "markdown",
      "source": [
        "##Crear las variables de decisión"
      ],
      "metadata": {
        "id": "-fqoEsX7ubUN"
      }
    },
    {
      "cell_type": "markdown",
      "source": [
        "Para este problema son el número de veces que se usa \"TV\", \"W\", \"D\" y \"R\". El parámetro `lowBound` indica la cantidad mínima de veces que se utilizará cada medio, que en este ejemplo es 0. El parámetro `upBound`es la disponibilidad o cantidad máxima de veces que se podrá usar cada medio en un mes. Por otra parte, el parámetro `cat` representa el tipo de dato, en este ejemplo debe ser entero."
      ],
      "metadata": {
        "id": "nZE5aftAuvmH"
      }
    },
    {
      "cell_type": "code",
      "source": [
        "TV = LpVariable(\"TV\", lowBound=0, upBound=12, cat=\"Integer\")\n",
        "W = LpVariable(\"W\", lowBound=0, upBound=30, cat=\"Integer\")\n",
        "D = LpVariable(\"D\", lowBound=0, upBound=4, cat=\"Integer\")\n",
        "R = LpVariable(\"R\", lowBound=0, upBound=30, cat=\"Integer\")"
      ],
      "metadata": {
        "id": "0_ZQN0dDNs3A"
      },
      "execution_count": 4,
      "outputs": []
    },
    {
      "cell_type": "markdown",
      "source": [
        "##Definir la función objetivo "
      ],
      "metadata": {
        "id": "iAH4C5CRu6Mb"
      }
    },
    {
      "cell_type": "markdown",
      "source": [
        "Se agrega la función objetivo al modelo usando el operador de asignación `+=`"
      ],
      "metadata": {
        "id": "jTomwKTmwnQs"
      }
    },
    {
      "cell_type": "code",
      "source": [
        "modelo += 1500*TV + 1000*W + 2200*D + 200*R "
      ],
      "metadata": {
        "id": "DXSnPDumN0vT"
      },
      "execution_count": 5,
      "outputs": []
    },
    {
      "cell_type": "markdown",
      "source": [
        "##Agregar las restricciones"
      ],
      "metadata": {
        "id": "g0VPvGayu-0E"
      }
    },
    {
      "cell_type": "markdown",
      "source": [
        "Las restricciones, así como el objetivo, agregados al modelo también deben estar expresadas en términos de las variables de decisión. Del mismo modo que definimos la función objetivo, se usa el operador de asignación `+=`, de este modo lo que se encuentra a la derecha de la expresión matemática se almacena (agrega) en la variable \"modelo\". Las disponibilidades por mes ya han sido agregadas cuando se definieron las variables de decisión mediante el parámetro `upBound`."
      ],
      "metadata": {
        "id": "QLrzizwuwUJi"
      }
    },
    {
      "cell_type": "code",
      "source": [
        "#Disponibilidad por mes:\n",
        "    #modelo += TV <= 12\n",
        "    #modelo += W <= 30\n",
        "    #modelo += D <= 4\n",
        "    #modelo += R <= 30\n",
        "#Restricción presupuestaria:\n",
        "modelo += 2000*TV + 400*W + 1000*D + 100*R <= 20000\n",
        "modelo += 2000*TV <= 10000"
      ],
      "metadata": {
        "id": "A5EVs7cuOIh-"
      },
      "execution_count": 6,
      "outputs": []
    },
    {
      "cell_type": "markdown",
      "source": [
        "##Resolver el modelo"
      ],
      "metadata": {
        "id": "buQo6OgYvi9P"
      }
    },
    {
      "cell_type": "markdown",
      "source": [
        "Una vez definido el modelo, las variables de decisión, función objetivo y restricciones se procede a resolver el modelo usando algún método de optimización. De este modo, la mejor solución posible es identificada. "
      ],
      "metadata": {
        "id": "nb7z3phexjDY"
      }
    },
    {
      "cell_type": "code",
      "source": [
        "#Resolver el modelo:\n",
        "modelo.solve()\n",
        "#Comprobar el status de la solución alcanzada:\n",
        "print (\"Status:\", LpStatus[modelo.status])"
      ],
      "metadata": {
        "colab": {
          "base_uri": "https://localhost:8080/"
        },
        "id": "5Cb3y3utPLoy",
        "outputId": "aa0fdf3c-b4ec-4203-e3de-f985ba34ee3a"
      },
      "execution_count": 7,
      "outputs": [
        {
          "output_type": "stream",
          "name": "stdout",
          "text": [
            "Status: Optimal\n"
          ]
        }
      ]
    },
    {
      "cell_type": "markdown",
      "source": [
        "`LpStatus` muestra el status de la solución alcanzada, en este caso, la solución alcanzada es la óptima."
      ],
      "metadata": {
        "id": "30w_dDurxtDm"
      }
    },
    {
      "cell_type": "code",
      "source": [
        "print(\"Televisión: \", TV.varValue)\n",
        "print(\"Web: \", W.varValue)\n",
        "print(\"Diario: \", D.varValue)\n",
        "print(\"Radio: \", R.varValue)"
      ],
      "metadata": {
        "colab": {
          "base_uri": "https://localhost:8080/"
        },
        "id": "MhAX9K5yQSda",
        "outputId": "a2789415-7f8e-4fe5-9d19-984d353555d7"
      },
      "execution_count": 8,
      "outputs": [
        {
          "output_type": "stream",
          "name": "stdout",
          "text": [
            "Televisión:  0.0\n",
            "Web:  30.0\n",
            "Diario:  4.0\n",
            "Radio:  30.0\n"
          ]
        }
      ]
    },
    {
      "cell_type": "markdown",
      "source": [
        "La solución que me permite maximizar el alcance publicitario es: 30 anuncios Web, 4 en Diarios y 30 en Radio."
      ],
      "metadata": {
        "id": "up5E1bq6w8CN"
      }
    },
    {
      "cell_type": "code",
      "source": [
        "print(\"Beneficio máximo: \", value(modelo.objective))"
      ],
      "metadata": {
        "colab": {
          "base_uri": "https://localhost:8080/"
        },
        "id": "XSq558s-xG-u",
        "outputId": "3233825a-1258-430c-e72c-ea02e10f33d7"
      },
      "execution_count": 9,
      "outputs": [
        {
          "output_type": "stream",
          "name": "stdout",
          "text": [
            "Beneficio máximo:  44800.0\n"
          ]
        }
      ]
    },
    {
      "cell_type": "code",
      "source": [
        "#Alcance de la campaña:\n",
        "30*1000+4*2200+30*200"
      ],
      "metadata": {
        "colab": {
          "base_uri": "https://localhost:8080/"
        },
        "id": "w5Sucey4yUwH",
        "outputId": "c34e70c7-5154-40ff-c4c5-464907e94136"
      },
      "execution_count": 10,
      "outputs": [
        {
          "output_type": "execute_result",
          "data": {
            "text/plain": [
              "44800"
            ]
          },
          "metadata": {},
          "execution_count": 10
        }
      ]
    },
    {
      "cell_type": "code",
      "source": [
        "#Costo de la campaña\n",
        "30*400+4*1000+30*100"
      ],
      "metadata": {
        "colab": {
          "base_uri": "https://localhost:8080/"
        },
        "id": "9YQ2SGOp6tK9",
        "outputId": "2c1d3e61-ecbb-4e0f-d627-b92df5c0fe07"
      },
      "execution_count": 11,
      "outputs": [
        {
          "output_type": "execute_result",
          "data": {
            "text/plain": [
              "19000"
            ]
          },
          "metadata": {},
          "execution_count": 11
        }
      ]
    },
    {
      "cell_type": "markdown",
      "source": [
        "La campaña publicitaria tendrá un costo de 19.000 dólares y según los medios utilizados se estima que llegará a 44.800 clientes potenciales. "
      ],
      "metadata": {
        "id": "pmb1wj9jxH8U"
      }
    }
  ]
}