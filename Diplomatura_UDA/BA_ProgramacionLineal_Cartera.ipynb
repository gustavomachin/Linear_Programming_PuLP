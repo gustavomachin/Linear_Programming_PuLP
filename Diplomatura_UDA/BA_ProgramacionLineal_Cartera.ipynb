{
  "nbformat": 4,
  "nbformat_minor": 0,
  "metadata": {
    "colab": {
      "provenance": [],
      "collapsed_sections": [],
      "include_colab_link": true
    },
    "kernelspec": {
      "display_name": "Python 3",
      "name": "python3"
    }
  },
  "cells": [
    {
      "cell_type": "markdown",
      "metadata": {
        "id": "view-in-github",
        "colab_type": "text"
      },
      "source": [
        "<a href=\"https://colab.research.google.com/github/gustavomachin/Linear_Programming_PuLP/blob/master/Diplomatura_UDA/BA_ProgramacionLineal_Cartera.ipynb\" target=\"_parent\"><img src=\"https://colab.research.google.com/assets/colab-badge.svg\" alt=\"Open In Colab\"/></a>"
      ]
    },
    {
      "cell_type": "markdown",
      "source": [
        "![logo](https://github.com/cristiandarioortegayubro/BA/blob/main/dba.png?raw=true)"
      ],
      "metadata": {
        "id": "hMhXoHfi2Jb1"
      }
    },
    {
      "cell_type": "markdown",
      "metadata": {
        "id": "WJAQsOrbL_tU"
      },
      "source": [
        "<center>\n",
        "<font color=\"#41a8c7\">\n",
        "<h2><b>\n",
        "Programación Lineal - Problema de Selección de Cartera\n",
        "\n",
        "</font>\n",
        "</center>"
      ]
    },
    {
      "cell_type": "markdown",
      "metadata": {
        "id": "aFDMU-W_5qMZ"
      },
      "source": [
        "## Instalar y cargar las librerías necesarias"
      ]
    },
    {
      "cell_type": "code",
      "source": [
        "! pip install pulp"
      ],
      "metadata": {
        "colab": {
          "base_uri": "https://localhost:8080/"
        },
        "id": "7BkYWYB_2crs",
        "outputId": "fe3a112f-489f-4549-e6ce-771213e211d1"
      },
      "execution_count": 1,
      "outputs": [
        {
          "output_type": "stream",
          "name": "stdout",
          "text": [
            "Looking in indexes: https://pypi.org/simple, https://us-python.pkg.dev/colab-wheels/public/simple/\n",
            "Collecting pulp\n",
            "  Downloading PuLP-2.6.0-py3-none-any.whl (14.2 MB)\n",
            "\u001b[K     |████████████████████████████████| 14.2 MB 3.8 MB/s \n",
            "\u001b[?25hInstalling collected packages: pulp\n",
            "Successfully installed pulp-2.6.0\n"
          ]
        }
      ]
    },
    {
      "cell_type": "code",
      "source": [
        "from pulp import *"
      ],
      "metadata": {
        "id": "lEmq2_bB3ZBb"
      },
      "execution_count": 2,
      "outputs": []
    },
    {
      "cell_type": "code",
      "source": [
        "import pandas as pd"
      ],
      "metadata": {
        "id": "g7VENEwdEDvG"
      },
      "execution_count": 3,
      "outputs": []
    },
    {
      "cell_type": "code",
      "source": [
        "import plotly.express as px"
      ],
      "metadata": {
        "id": "Ogqxn2rKEBfP"
      },
      "execution_count": 4,
      "outputs": []
    },
    {
      "cell_type": "markdown",
      "source": [
        "## Resumen del caso planteado"
      ],
      "metadata": {
        "id": "bgQg-Alc9kXO"
      }
    },
    {
      "cell_type": "markdown",
      "source": [
        "Se buscará determinar la combinación de activos financieros disponibles en un mercado de capitales que maximice la rentabilidad de la inversión para la empresa. \n",
        "\n",
        "El gerente de finanzas quiere conocer la combinación de activos financieros que maximice la rentabilidad de 100.000 dólares que debe invertir. Con base en las inversiones actuales de la empresa, el analista bursátil recomienda que todas las nuevas inversiones se hagan en la industria petrolera, la industria siderúrgica o en bonos del gobierno. Particularmente, el analista identificó cinco oportunidades de inversión y estimó sus tasas rendimiento anuales.\n",
        "\n",
        "**Rendimientos esperados**\n",
        "\n",
        "| Activo Financiero | Rendimiento esperado anual (%) | \n",
        "|---------------|---------|\n",
        "|Petrolera 1 |7,3|\n",
        "|Petrolera 2  |10,3 | \n",
        "|Metalúrgica 1  |6,3 | \n",
        "|Metalúrgica 2  |7,5 | \n",
        "|Bonos del Gobierno |4 | \n",
        "\n",
        "La gerencia impuso los siguientes lineamientos de inversión: 1) Ninguna industria (petrolera o siderúrgica) debe recibir más del 50% de la inversión (50,000 dólares). 2) Los bonos del gobierno deben constituir por lo menos 25% de las inversiones en la industria metalúrgica. 3) La inversión en P2, inversión de alto rendimiento pero con alto riesgo, no puede constituir más de 60% de la inversión total en la industria petrolera. \n",
        "\n",
        "Se intenta maximizar el rendimiento esperado sujeto a las restricciones impuestas por el presupuesto y la gerencia.\n"
      ],
      "metadata": {
        "id": "J8qJZZDc9ga5"
      }
    },
    {
      "cell_type": "markdown",
      "source": [
        "## Definir el modelo"
      ],
      "metadata": {
        "id": "Q4oCZWJONT_c"
      }
    },
    {
      "cell_type": "markdown",
      "source": [
        "Se contruye el modelo, que busque minimizar (LpMinimize) o maximizar (LpMaximize). En este caso es un problema de maximización de la rentabilidad de la inversión de la empresa, es decir, el rendimiento esperado."
      ],
      "metadata": {
        "id": "crB_k8WZjG-R"
      }
    },
    {
      "cell_type": "code",
      "source": [
        "modelo = LpProblem(\"Problema_de_Cartera\", sense=LpMaximize)"
      ],
      "metadata": {
        "id": "JGLwkW9ONWB9"
      },
      "execution_count": 5,
      "outputs": []
    },
    {
      "cell_type": "markdown",
      "source": [
        "##Crear las variables de decisión"
      ],
      "metadata": {
        "id": "-fqoEsX7ubUN"
      }
    },
    {
      "cell_type": "markdown",
      "source": [
        "Para este problema son las proporciones (participación en porcentaje) de la inversión total que se invertirá en cada activo financiero. Siendo `P1` el porcentaje invertido en la Petrolera 1, `P2` el porcentaje invertido en la Petrolera 2, `M1` el porcentaje invertido en la Metalúrgica 1,`M2` el porcentaje invertido en la Metalúrgica 2 y `BG` el porcentaje invertido en Bonos del Gobierno. \n",
        "\n",
        "El parámetro `lowBound=0` indica que no se pueden invertir proporciones negarivas. Por otra parte, el parámetro `cat=\"Continuous\"` expresa que la proporción a invertir en cada activo financiero es un número con decimales, este parámetro toma valores continuos o reales por defecto."
      ],
      "metadata": {
        "id": "nZE5aftAuvmH"
      }
    },
    {
      "cell_type": "code",
      "source": [
        "P1 = LpVariable(\"P1\", lowBound=0, cat=\"Continuous\")\n",
        "P2 = LpVariable(\"P2\", lowBound=0, cat=\"Continuous\")\n",
        "M1 = LpVariable(\"M1\", lowBound=0, cat=\"Continuous\")\n",
        "M2 = LpVariable(\"M2\", lowBound=0, cat=\"Continuous\")\n",
        "BG = LpVariable(\"BG\", lowBound=0, cat=\"Continuous\")"
      ],
      "metadata": {
        "id": "0_ZQN0dDNs3A"
      },
      "execution_count": 6,
      "outputs": []
    },
    {
      "cell_type": "markdown",
      "source": [
        "##Definir la función objetivo "
      ],
      "metadata": {
        "id": "iAH4C5CRu6Mb"
      }
    },
    {
      "cell_type": "markdown",
      "source": [
        "El rendimiento de la cartera es el promedio ponderado por las participaciones de los rendimientos de los activos financieros que la componen.\n",
        "\n",
        "Se agrega la función objetivo al modelo usando el operador de asignación `+=`"
      ],
      "metadata": {
        "id": "jTomwKTmwnQs"
      }
    },
    {
      "cell_type": "code",
      "source": [
        "modelo += 0.073*P1 + 0.103*P2 + 0.063*M1 + 0.075*M2 + 0.04*BG "
      ],
      "metadata": {
        "id": "DXSnPDumN0vT"
      },
      "execution_count": 7,
      "outputs": []
    },
    {
      "cell_type": "markdown",
      "source": [
        "##Agregar las restricciones"
      ],
      "metadata": {
        "id": "g0VPvGayu-0E"
      }
    },
    {
      "cell_type": "markdown",
      "source": [
        "Las restricciones, así como el objetivo, agregados al modelo también deben estar expresadas en términos de las variables de decisión. Del mismo modo que definimos la función objetivo, se usa el operador de asignación `+=`, de este modo lo que se encuentra a la derecha de la expresión matemática se almacena (agrega) en la variable \"modelo\"."
      ],
      "metadata": {
        "id": "QLrzizwuwUJi"
      }
    },
    {
      "cell_type": "code",
      "source": [
        "#inversión total\n",
        "modelo += P1 + P2 + M1 + M2 + BG == 1\n",
        "#inversión en industria petrolera\n",
        "modelo += P1 + P2 <= 0.5\n",
        "#inversión en industria metalúrgica\n",
        "modelo += M1 + M2 <= 0.5 \n",
        "#inversión en bonos del gobierno (BG)\n",
        "modelo += BG >= 0.25*(M1+M2)\n",
        "#inversión en activos de alto riesgo (P2)\n",
        "modelo += P2 <= 0.6*(P1+P2)"
      ],
      "metadata": {
        "id": "A5EVs7cuOIh-"
      },
      "execution_count": 8,
      "outputs": []
    },
    {
      "cell_type": "markdown",
      "source": [
        "##Resolver el modelo"
      ],
      "metadata": {
        "id": "buQo6OgYvi9P"
      }
    },
    {
      "cell_type": "markdown",
      "source": [
        "Una vez definido el modelo, las variables de decisión, función objetivo y restricciones se procede a resolver el modelo usando algún método de optimización. De este modo, la mejor solución posible es identificada. "
      ],
      "metadata": {
        "id": "nb7z3phexjDY"
      }
    },
    {
      "cell_type": "code",
      "source": [
        "#Resolver el modelo:\n",
        "modelo.solve()\n",
        "#Comprobar el status de la solución alcanzada:\n",
        "print (\"Status:\", LpStatus[modelo.status])"
      ],
      "metadata": {
        "colab": {
          "base_uri": "https://localhost:8080/"
        },
        "id": "5Cb3y3utPLoy",
        "outputId": "5317329e-4c28-48ae-d33e-d407e64f9c95"
      },
      "execution_count": 9,
      "outputs": [
        {
          "output_type": "stream",
          "name": "stdout",
          "text": [
            "Status: Optimal\n"
          ]
        }
      ]
    },
    {
      "cell_type": "markdown",
      "source": [
        "`LpStatus` muestra el status de la solución alcanzada, en este caso, la solución alcanzada es la óptima."
      ],
      "metadata": {
        "id": "30w_dDurxtDm"
      }
    },
    {
      "cell_type": "code",
      "source": [
        "print(\"Invertir en P1: \", P1.varValue * 100, \"%\")\n",
        "print(\"Invertir en P2: \", P2.varValue * 100, \"%\")\n",
        "print(\"Invertir en M1: \", M1.varValue * 100, \"%\")\n",
        "print(\"Invertir en M2: \", M2.varValue * 100, \"%\")\n",
        "print(\"Invertir en BG: \", BG.varValue * 100, \"%\")"
      ],
      "metadata": {
        "colab": {
          "base_uri": "https://localhost:8080/"
        },
        "id": "MhAX9K5yQSda",
        "outputId": "fe8bdf89-fc2a-49a7-cfc3-67b3a6701560"
      },
      "execution_count": 10,
      "outputs": [
        {
          "output_type": "stream",
          "name": "stdout",
          "text": [
            "Invertir en P1:  20.0 %\n",
            "Invertir en P2:  30.0 %\n",
            "Invertir en M1:  0.0 %\n",
            "Invertir en M2:  40.0 %\n",
            "Invertir en BG:  10.0 %\n"
          ]
        }
      ]
    },
    {
      "cell_type": "markdown",
      "source": [
        "La solución que me permite maximizar el rendimiento esperado es invertir del capital inivial, el 20% en la Petrolera 1, el 30% en la Petrolera 2, el 40% en la Metalúrgica 2 y el 10% en Bonos del Gobierno. "
      ],
      "metadata": {
        "id": "up5E1bq6w8CN"
      }
    },
    {
      "cell_type": "code",
      "source": [
        "print(\"Máximo rendimiento esperado: \", value(modelo.objective) * 100, \"%\")"
      ],
      "metadata": {
        "colab": {
          "base_uri": "https://localhost:8080/"
        },
        "id": "XSq558s-xG-u",
        "outputId": "68be0a21-5092-4746-8bd5-22dff6e5d8f2"
      },
      "execution_count": 11,
      "outputs": [
        {
          "output_type": "stream",
          "name": "stdout",
          "text": [
            "Máximo rendimiento esperado:  7.95 %\n"
          ]
        }
      ]
    },
    {
      "cell_type": "markdown",
      "source": [
        "El rendimiento esperado de la cartera según las participaciones obtenidas es del 7.95%."
      ],
      "metadata": {
        "id": "pmb1wj9jxH8U"
      }
    },
    {
      "cell_type": "markdown",
      "source": [
        "##Graficar"
      ],
      "metadata": {
        "id": "7Yje6p8REX7k"
      }
    },
    {
      "cell_type": "code",
      "source": [
        "datos = pd.DataFrame({\"P1\": P1.varValue, \"P2\": P2.varValue, \"M1\": M1.varValue, \"M2\": M2.varValue, \"BG\": BG.varValue}, index=[0])\n",
        "datos = datos.T\n",
        "datos.columns = [\"Participaciones\"]\n",
        "datos"
      ],
      "metadata": {
        "colab": {
          "base_uri": "https://localhost:8080/",
          "height": 206
        },
        "id": "WiFhJypuC9fG",
        "outputId": "b1cddffd-69b4-4ff7-f680-2c17a6ea554c"
      },
      "execution_count": 12,
      "outputs": [
        {
          "output_type": "execute_result",
          "data": {
            "text/plain": [
              "    Participaciones\n",
              "P1              0.2\n",
              "P2              0.3\n",
              "M1              0.0\n",
              "M2              0.4\n",
              "BG              0.1"
            ],
            "text/html": [
              "\n",
              "  <div id=\"df-c84fb6f8-8fc9-4e13-b685-c5c0a620fb7c\">\n",
              "    <div class=\"colab-df-container\">\n",
              "      <div>\n",
              "<style scoped>\n",
              "    .dataframe tbody tr th:only-of-type {\n",
              "        vertical-align: middle;\n",
              "    }\n",
              "\n",
              "    .dataframe tbody tr th {\n",
              "        vertical-align: top;\n",
              "    }\n",
              "\n",
              "    .dataframe thead th {\n",
              "        text-align: right;\n",
              "    }\n",
              "</style>\n",
              "<table border=\"1\" class=\"dataframe\">\n",
              "  <thead>\n",
              "    <tr style=\"text-align: right;\">\n",
              "      <th></th>\n",
              "      <th>Participaciones</th>\n",
              "    </tr>\n",
              "  </thead>\n",
              "  <tbody>\n",
              "    <tr>\n",
              "      <th>P1</th>\n",
              "      <td>0.2</td>\n",
              "    </tr>\n",
              "    <tr>\n",
              "      <th>P2</th>\n",
              "      <td>0.3</td>\n",
              "    </tr>\n",
              "    <tr>\n",
              "      <th>M1</th>\n",
              "      <td>0.0</td>\n",
              "    </tr>\n",
              "    <tr>\n",
              "      <th>M2</th>\n",
              "      <td>0.4</td>\n",
              "    </tr>\n",
              "    <tr>\n",
              "      <th>BG</th>\n",
              "      <td>0.1</td>\n",
              "    </tr>\n",
              "  </tbody>\n",
              "</table>\n",
              "</div>\n",
              "      <button class=\"colab-df-convert\" onclick=\"convertToInteractive('df-c84fb6f8-8fc9-4e13-b685-c5c0a620fb7c')\"\n",
              "              title=\"Convert this dataframe to an interactive table.\"\n",
              "              style=\"display:none;\">\n",
              "        \n",
              "  <svg xmlns=\"http://www.w3.org/2000/svg\" height=\"24px\"viewBox=\"0 0 24 24\"\n",
              "       width=\"24px\">\n",
              "    <path d=\"M0 0h24v24H0V0z\" fill=\"none\"/>\n",
              "    <path d=\"M18.56 5.44l.94 2.06.94-2.06 2.06-.94-2.06-.94-.94-2.06-.94 2.06-2.06.94zm-11 1L8.5 8.5l.94-2.06 2.06-.94-2.06-.94L8.5 2.5l-.94 2.06-2.06.94zm10 10l.94 2.06.94-2.06 2.06-.94-2.06-.94-.94-2.06-.94 2.06-2.06.94z\"/><path d=\"M17.41 7.96l-1.37-1.37c-.4-.4-.92-.59-1.43-.59-.52 0-1.04.2-1.43.59L10.3 9.45l-7.72 7.72c-.78.78-.78 2.05 0 2.83L4 21.41c.39.39.9.59 1.41.59.51 0 1.02-.2 1.41-.59l7.78-7.78 2.81-2.81c.8-.78.8-2.07 0-2.86zM5.41 20L4 18.59l7.72-7.72 1.47 1.35L5.41 20z\"/>\n",
              "  </svg>\n",
              "      </button>\n",
              "      \n",
              "  <style>\n",
              "    .colab-df-container {\n",
              "      display:flex;\n",
              "      flex-wrap:wrap;\n",
              "      gap: 12px;\n",
              "    }\n",
              "\n",
              "    .colab-df-convert {\n",
              "      background-color: #E8F0FE;\n",
              "      border: none;\n",
              "      border-radius: 50%;\n",
              "      cursor: pointer;\n",
              "      display: none;\n",
              "      fill: #1967D2;\n",
              "      height: 32px;\n",
              "      padding: 0 0 0 0;\n",
              "      width: 32px;\n",
              "    }\n",
              "\n",
              "    .colab-df-convert:hover {\n",
              "      background-color: #E2EBFA;\n",
              "      box-shadow: 0px 1px 2px rgba(60, 64, 67, 0.3), 0px 1px 3px 1px rgba(60, 64, 67, 0.15);\n",
              "      fill: #174EA6;\n",
              "    }\n",
              "\n",
              "    [theme=dark] .colab-df-convert {\n",
              "      background-color: #3B4455;\n",
              "      fill: #D2E3FC;\n",
              "    }\n",
              "\n",
              "    [theme=dark] .colab-df-convert:hover {\n",
              "      background-color: #434B5C;\n",
              "      box-shadow: 0px 1px 3px 1px rgba(0, 0, 0, 0.15);\n",
              "      filter: drop-shadow(0px 1px 2px rgba(0, 0, 0, 0.3));\n",
              "      fill: #FFFFFF;\n",
              "    }\n",
              "  </style>\n",
              "\n",
              "      <script>\n",
              "        const buttonEl =\n",
              "          document.querySelector('#df-c84fb6f8-8fc9-4e13-b685-c5c0a620fb7c button.colab-df-convert');\n",
              "        buttonEl.style.display =\n",
              "          google.colab.kernel.accessAllowed ? 'block' : 'none';\n",
              "\n",
              "        async function convertToInteractive(key) {\n",
              "          const element = document.querySelector('#df-c84fb6f8-8fc9-4e13-b685-c5c0a620fb7c');\n",
              "          const dataTable =\n",
              "            await google.colab.kernel.invokeFunction('convertToInteractive',\n",
              "                                                     [key], {});\n",
              "          if (!dataTable) return;\n",
              "\n",
              "          const docLinkHtml = 'Like what you see? Visit the ' +\n",
              "            '<a target=\"_blank\" href=https://colab.research.google.com/notebooks/data_table.ipynb>data table notebook</a>'\n",
              "            + ' to learn more about interactive tables.';\n",
              "          element.innerHTML = '';\n",
              "          dataTable['output_type'] = 'display_data';\n",
              "          await google.colab.output.renderOutput(dataTable, element);\n",
              "          const docLink = document.createElement('div');\n",
              "          docLink.innerHTML = docLinkHtml;\n",
              "          element.appendChild(docLink);\n",
              "        }\n",
              "      </script>\n",
              "    </div>\n",
              "  </div>\n",
              "  "
            ]
          },
          "metadata": {},
          "execution_count": 12
        }
      ]
    },
    {
      "cell_type": "code",
      "source": [
        "px.pie(datos, \n",
        "       values=\"Participaciones\", \n",
        "       names=datos.index, \n",
        "       title=\"Máximo rendimiento esperado\",\n",
        "       hole=.4,\n",
        "       color_discrete_sequence = px.colors.sequential.Turbo)"
      ],
      "metadata": {
        "colab": {
          "base_uri": "https://localhost:8080/",
          "height": 542
        },
        "id": "6XXHt_x2D3R8",
        "outputId": "b4f504d1-a2d2-43ef-c1d5-d615cdb9fc71"
      },
      "execution_count": 13,
      "outputs": [
        {
          "output_type": "display_data",
          "data": {
            "text/html": [
              "<html>\n",
              "<head><meta charset=\"utf-8\" /></head>\n",
              "<body>\n",
              "    <div>            <script src=\"https://cdnjs.cloudflare.com/ajax/libs/mathjax/2.7.5/MathJax.js?config=TeX-AMS-MML_SVG\"></script><script type=\"text/javascript\">if (window.MathJax) {MathJax.Hub.Config({SVG: {font: \"STIX-Web\"}});}</script>                <script type=\"text/javascript\">window.PlotlyConfig = {MathJaxConfig: 'local'};</script>\n",
              "        <script src=\"https://cdn.plot.ly/plotly-2.8.3.min.js\"></script>                <div id=\"366dfefe-254c-484e-a711-015ff11a55c4\" class=\"plotly-graph-div\" style=\"height:525px; width:100%;\"></div>            <script type=\"text/javascript\">                                    window.PLOTLYENV=window.PLOTLYENV || {};                                    if (document.getElementById(\"366dfefe-254c-484e-a711-015ff11a55c4\")) {                    Plotly.newPlot(                        \"366dfefe-254c-484e-a711-015ff11a55c4\",                        [{\"domain\":{\"x\":[0.0,1.0],\"y\":[0.0,1.0]},\"hole\":0.4,\"hovertemplate\":\"index=%{label}<br>Participaciones=%{value}<extra></extra>\",\"labels\":[\"P1\",\"P2\",\"M1\",\"M2\",\"BG\"],\"legendgroup\":\"\",\"name\":\"\",\"showlegend\":true,\"values\":[0.2,0.3,0.0,0.4,0.1],\"type\":\"pie\"}],                        {\"template\":{\"data\":{\"bar\":[{\"error_x\":{\"color\":\"#2a3f5f\"},\"error_y\":{\"color\":\"#2a3f5f\"},\"marker\":{\"line\":{\"color\":\"#E5ECF6\",\"width\":0.5},\"pattern\":{\"fillmode\":\"overlay\",\"size\":10,\"solidity\":0.2}},\"type\":\"bar\"}],\"barpolar\":[{\"marker\":{\"line\":{\"color\":\"#E5ECF6\",\"width\":0.5},\"pattern\":{\"fillmode\":\"overlay\",\"size\":10,\"solidity\":0.2}},\"type\":\"barpolar\"}],\"carpet\":[{\"aaxis\":{\"endlinecolor\":\"#2a3f5f\",\"gridcolor\":\"white\",\"linecolor\":\"white\",\"minorgridcolor\":\"white\",\"startlinecolor\":\"#2a3f5f\"},\"baxis\":{\"endlinecolor\":\"#2a3f5f\",\"gridcolor\":\"white\",\"linecolor\":\"white\",\"minorgridcolor\":\"white\",\"startlinecolor\":\"#2a3f5f\"},\"type\":\"carpet\"}],\"choropleth\":[{\"colorbar\":{\"outlinewidth\":0,\"ticks\":\"\"},\"type\":\"choropleth\"}],\"contour\":[{\"colorbar\":{\"outlinewidth\":0,\"ticks\":\"\"},\"colorscale\":[[0.0,\"#0d0887\"],[0.1111111111111111,\"#46039f\"],[0.2222222222222222,\"#7201a8\"],[0.3333333333333333,\"#9c179e\"],[0.4444444444444444,\"#bd3786\"],[0.5555555555555556,\"#d8576b\"],[0.6666666666666666,\"#ed7953\"],[0.7777777777777778,\"#fb9f3a\"],[0.8888888888888888,\"#fdca26\"],[1.0,\"#f0f921\"]],\"type\":\"contour\"}],\"contourcarpet\":[{\"colorbar\":{\"outlinewidth\":0,\"ticks\":\"\"},\"type\":\"contourcarpet\"}],\"heatmap\":[{\"colorbar\":{\"outlinewidth\":0,\"ticks\":\"\"},\"colorscale\":[[0.0,\"#0d0887\"],[0.1111111111111111,\"#46039f\"],[0.2222222222222222,\"#7201a8\"],[0.3333333333333333,\"#9c179e\"],[0.4444444444444444,\"#bd3786\"],[0.5555555555555556,\"#d8576b\"],[0.6666666666666666,\"#ed7953\"],[0.7777777777777778,\"#fb9f3a\"],[0.8888888888888888,\"#fdca26\"],[1.0,\"#f0f921\"]],\"type\":\"heatmap\"}],\"heatmapgl\":[{\"colorbar\":{\"outlinewidth\":0,\"ticks\":\"\"},\"colorscale\":[[0.0,\"#0d0887\"],[0.1111111111111111,\"#46039f\"],[0.2222222222222222,\"#7201a8\"],[0.3333333333333333,\"#9c179e\"],[0.4444444444444444,\"#bd3786\"],[0.5555555555555556,\"#d8576b\"],[0.6666666666666666,\"#ed7953\"],[0.7777777777777778,\"#fb9f3a\"],[0.8888888888888888,\"#fdca26\"],[1.0,\"#f0f921\"]],\"type\":\"heatmapgl\"}],\"histogram\":[{\"marker\":{\"pattern\":{\"fillmode\":\"overlay\",\"size\":10,\"solidity\":0.2}},\"type\":\"histogram\"}],\"histogram2d\":[{\"colorbar\":{\"outlinewidth\":0,\"ticks\":\"\"},\"colorscale\":[[0.0,\"#0d0887\"],[0.1111111111111111,\"#46039f\"],[0.2222222222222222,\"#7201a8\"],[0.3333333333333333,\"#9c179e\"],[0.4444444444444444,\"#bd3786\"],[0.5555555555555556,\"#d8576b\"],[0.6666666666666666,\"#ed7953\"],[0.7777777777777778,\"#fb9f3a\"],[0.8888888888888888,\"#fdca26\"],[1.0,\"#f0f921\"]],\"type\":\"histogram2d\"}],\"histogram2dcontour\":[{\"colorbar\":{\"outlinewidth\":0,\"ticks\":\"\"},\"colorscale\":[[0.0,\"#0d0887\"],[0.1111111111111111,\"#46039f\"],[0.2222222222222222,\"#7201a8\"],[0.3333333333333333,\"#9c179e\"],[0.4444444444444444,\"#bd3786\"],[0.5555555555555556,\"#d8576b\"],[0.6666666666666666,\"#ed7953\"],[0.7777777777777778,\"#fb9f3a\"],[0.8888888888888888,\"#fdca26\"],[1.0,\"#f0f921\"]],\"type\":\"histogram2dcontour\"}],\"mesh3d\":[{\"colorbar\":{\"outlinewidth\":0,\"ticks\":\"\"},\"type\":\"mesh3d\"}],\"parcoords\":[{\"line\":{\"colorbar\":{\"outlinewidth\":0,\"ticks\":\"\"}},\"type\":\"parcoords\"}],\"pie\":[{\"automargin\":true,\"type\":\"pie\"}],\"scatter\":[{\"marker\":{\"colorbar\":{\"outlinewidth\":0,\"ticks\":\"\"}},\"type\":\"scatter\"}],\"scatter3d\":[{\"line\":{\"colorbar\":{\"outlinewidth\":0,\"ticks\":\"\"}},\"marker\":{\"colorbar\":{\"outlinewidth\":0,\"ticks\":\"\"}},\"type\":\"scatter3d\"}],\"scattercarpet\":[{\"marker\":{\"colorbar\":{\"outlinewidth\":0,\"ticks\":\"\"}},\"type\":\"scattercarpet\"}],\"scattergeo\":[{\"marker\":{\"colorbar\":{\"outlinewidth\":0,\"ticks\":\"\"}},\"type\":\"scattergeo\"}],\"scattergl\":[{\"marker\":{\"colorbar\":{\"outlinewidth\":0,\"ticks\":\"\"}},\"type\":\"scattergl\"}],\"scattermapbox\":[{\"marker\":{\"colorbar\":{\"outlinewidth\":0,\"ticks\":\"\"}},\"type\":\"scattermapbox\"}],\"scatterpolar\":[{\"marker\":{\"colorbar\":{\"outlinewidth\":0,\"ticks\":\"\"}},\"type\":\"scatterpolar\"}],\"scatterpolargl\":[{\"marker\":{\"colorbar\":{\"outlinewidth\":0,\"ticks\":\"\"}},\"type\":\"scatterpolargl\"}],\"scatterternary\":[{\"marker\":{\"colorbar\":{\"outlinewidth\":0,\"ticks\":\"\"}},\"type\":\"scatterternary\"}],\"surface\":[{\"colorbar\":{\"outlinewidth\":0,\"ticks\":\"\"},\"colorscale\":[[0.0,\"#0d0887\"],[0.1111111111111111,\"#46039f\"],[0.2222222222222222,\"#7201a8\"],[0.3333333333333333,\"#9c179e\"],[0.4444444444444444,\"#bd3786\"],[0.5555555555555556,\"#d8576b\"],[0.6666666666666666,\"#ed7953\"],[0.7777777777777778,\"#fb9f3a\"],[0.8888888888888888,\"#fdca26\"],[1.0,\"#f0f921\"]],\"type\":\"surface\"}],\"table\":[{\"cells\":{\"fill\":{\"color\":\"#EBF0F8\"},\"line\":{\"color\":\"white\"}},\"header\":{\"fill\":{\"color\":\"#C8D4E3\"},\"line\":{\"color\":\"white\"}},\"type\":\"table\"}]},\"layout\":{\"annotationdefaults\":{\"arrowcolor\":\"#2a3f5f\",\"arrowhead\":0,\"arrowwidth\":1},\"autotypenumbers\":\"strict\",\"coloraxis\":{\"colorbar\":{\"outlinewidth\":0,\"ticks\":\"\"}},\"colorscale\":{\"diverging\":[[0,\"#8e0152\"],[0.1,\"#c51b7d\"],[0.2,\"#de77ae\"],[0.3,\"#f1b6da\"],[0.4,\"#fde0ef\"],[0.5,\"#f7f7f7\"],[0.6,\"#e6f5d0\"],[0.7,\"#b8e186\"],[0.8,\"#7fbc41\"],[0.9,\"#4d9221\"],[1,\"#276419\"]],\"sequential\":[[0.0,\"#0d0887\"],[0.1111111111111111,\"#46039f\"],[0.2222222222222222,\"#7201a8\"],[0.3333333333333333,\"#9c179e\"],[0.4444444444444444,\"#bd3786\"],[0.5555555555555556,\"#d8576b\"],[0.6666666666666666,\"#ed7953\"],[0.7777777777777778,\"#fb9f3a\"],[0.8888888888888888,\"#fdca26\"],[1.0,\"#f0f921\"]],\"sequentialminus\":[[0.0,\"#0d0887\"],[0.1111111111111111,\"#46039f\"],[0.2222222222222222,\"#7201a8\"],[0.3333333333333333,\"#9c179e\"],[0.4444444444444444,\"#bd3786\"],[0.5555555555555556,\"#d8576b\"],[0.6666666666666666,\"#ed7953\"],[0.7777777777777778,\"#fb9f3a\"],[0.8888888888888888,\"#fdca26\"],[1.0,\"#f0f921\"]]},\"colorway\":[\"#636efa\",\"#EF553B\",\"#00cc96\",\"#ab63fa\",\"#FFA15A\",\"#19d3f3\",\"#FF6692\",\"#B6E880\",\"#FF97FF\",\"#FECB52\"],\"font\":{\"color\":\"#2a3f5f\"},\"geo\":{\"bgcolor\":\"white\",\"lakecolor\":\"white\",\"landcolor\":\"#E5ECF6\",\"showlakes\":true,\"showland\":true,\"subunitcolor\":\"white\"},\"hoverlabel\":{\"align\":\"left\"},\"hovermode\":\"closest\",\"mapbox\":{\"style\":\"light\"},\"paper_bgcolor\":\"white\",\"plot_bgcolor\":\"#E5ECF6\",\"polar\":{\"angularaxis\":{\"gridcolor\":\"white\",\"linecolor\":\"white\",\"ticks\":\"\"},\"bgcolor\":\"#E5ECF6\",\"radialaxis\":{\"gridcolor\":\"white\",\"linecolor\":\"white\",\"ticks\":\"\"}},\"scene\":{\"xaxis\":{\"backgroundcolor\":\"#E5ECF6\",\"gridcolor\":\"white\",\"gridwidth\":2,\"linecolor\":\"white\",\"showbackground\":true,\"ticks\":\"\",\"zerolinecolor\":\"white\"},\"yaxis\":{\"backgroundcolor\":\"#E5ECF6\",\"gridcolor\":\"white\",\"gridwidth\":2,\"linecolor\":\"white\",\"showbackground\":true,\"ticks\":\"\",\"zerolinecolor\":\"white\"},\"zaxis\":{\"backgroundcolor\":\"#E5ECF6\",\"gridcolor\":\"white\",\"gridwidth\":2,\"linecolor\":\"white\",\"showbackground\":true,\"ticks\":\"\",\"zerolinecolor\":\"white\"}},\"shapedefaults\":{\"line\":{\"color\":\"#2a3f5f\"}},\"ternary\":{\"aaxis\":{\"gridcolor\":\"white\",\"linecolor\":\"white\",\"ticks\":\"\"},\"baxis\":{\"gridcolor\":\"white\",\"linecolor\":\"white\",\"ticks\":\"\"},\"bgcolor\":\"#E5ECF6\",\"caxis\":{\"gridcolor\":\"white\",\"linecolor\":\"white\",\"ticks\":\"\"}},\"title\":{\"x\":0.05},\"xaxis\":{\"automargin\":true,\"gridcolor\":\"white\",\"linecolor\":\"white\",\"ticks\":\"\",\"title\":{\"standoff\":15},\"zerolinecolor\":\"white\",\"zerolinewidth\":2},\"yaxis\":{\"automargin\":true,\"gridcolor\":\"white\",\"linecolor\":\"white\",\"ticks\":\"\",\"title\":{\"standoff\":15},\"zerolinecolor\":\"white\",\"zerolinewidth\":2}}},\"legend\":{\"tracegroupgap\":0},\"title\":{\"text\":\"M\\u00e1ximo rendimiento esperado\"},\"piecolorway\":[\"#30123b\",\"#4145ab\",\"#4675ed\",\"#39a2fc\",\"#1bcfd4\",\"#24eca6\",\"#61fc6c\",\"#a4fc3b\",\"#d1e834\",\"#f3c63a\",\"#fe9b2d\",\"#f36315\",\"#d93806\",\"#b11901\",\"#7a0402\"]},                        {\"responsive\": true}                    ).then(function(){\n",
              "                            \n",
              "var gd = document.getElementById('366dfefe-254c-484e-a711-015ff11a55c4');\n",
              "var x = new MutationObserver(function (mutations, observer) {{\n",
              "        var display = window.getComputedStyle(gd).display;\n",
              "        if (!display || display === 'none') {{\n",
              "            console.log([gd, 'removed!']);\n",
              "            Plotly.purge(gd);\n",
              "            observer.disconnect();\n",
              "        }}\n",
              "}});\n",
              "\n",
              "// Listen for the removal of the full notebook cells\n",
              "var notebookContainer = gd.closest('#notebook-container');\n",
              "if (notebookContainer) {{\n",
              "    x.observe(notebookContainer, {childList: true});\n",
              "}}\n",
              "\n",
              "// Listen for the clearing of the current output cell\n",
              "var outputEl = gd.closest('.output');\n",
              "if (outputEl) {{\n",
              "    x.observe(outputEl, {childList: true});\n",
              "}}\n",
              "\n",
              "                        })                };                            </script>        </div>\n",
              "</body>\n",
              "</html>"
            ]
          },
          "metadata": {}
        }
      ]
    }
  ]
}