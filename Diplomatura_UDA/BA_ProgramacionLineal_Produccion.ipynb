{
  "nbformat": 4,
  "nbformat_minor": 0,
  "metadata": {
    "colab": {
      "provenance": [],
      "collapsed_sections": [],
      "include_colab_link": true
    },
    "kernelspec": {
      "display_name": "Python 3",
      "name": "python3"
    }
  },
  "cells": [
    {
      "cell_type": "markdown",
      "metadata": {
        "id": "view-in-github",
        "colab_type": "text"
      },
      "source": [
        "<a href=\"https://colab.research.google.com/github/gustavomachin/Linear_Programming_PuLP/blob/master/Diplomatura_UDA/BA_ProgramacionLineal_Produccion.ipynb\" target=\"_parent\"><img src=\"https://colab.research.google.com/assets/colab-badge.svg\" alt=\"Open In Colab\"/></a>"
      ]
    },
    {
      "cell_type": "markdown",
      "source": [
        "![logo](https://github.com/cristiandarioortegayubro/BA/blob/main/dba.png?raw=true)"
      ],
      "metadata": {
        "id": "AkTBR9d61cpf"
      }
    },
    {
      "cell_type": "markdown",
      "metadata": {
        "id": "WJAQsOrbL_tU"
      },
      "source": [
        "<center>\n",
        "<font color=\"#41a8c7\">\n",
        "<h2><b>\n",
        "Programación Lineal - Problema de Producción\n",
        "\n",
        "</font>\n",
        "</center>"
      ]
    },
    {
      "cell_type": "markdown",
      "metadata": {
        "id": "aFDMU-W_5qMZ"
      },
      "source": [
        "## Instalar y cargar las librerías necesarias"
      ]
    },
    {
      "cell_type": "code",
      "source": [
        "! pip install pulp"
      ],
      "metadata": {
        "colab": {
          "base_uri": "https://localhost:8080/"
        },
        "id": "7BkYWYB_2crs",
        "outputId": "bad971a4-92d4-4951-c271-23efbd6818a0"
      },
      "execution_count": 1,
      "outputs": [
        {
          "output_type": "stream",
          "name": "stdout",
          "text": [
            "Looking in indexes: https://pypi.org/simple, https://us-python.pkg.dev/colab-wheels/public/simple/\n",
            "Collecting pulp\n",
            "  Downloading PuLP-2.6.0-py3-none-any.whl (14.2 MB)\n",
            "\u001b[K     |████████████████████████████████| 14.2 MB 4.7 MB/s \n",
            "\u001b[?25hInstalling collected packages: pulp\n",
            "Successfully installed pulp-2.6.0\n"
          ]
        }
      ]
    },
    {
      "cell_type": "code",
      "source": [
        "from pulp import *"
      ],
      "metadata": {
        "id": "lEmq2_bB3ZBb"
      },
      "execution_count": 2,
      "outputs": []
    },
    {
      "cell_type": "markdown",
      "source": [
        "## Resumen del caso planteado"
      ],
      "metadata": {
        "id": "ej9tAHUzpJEx"
      }
    },
    {
      "cell_type": "markdown",
      "source": [
        "Una fábrica solo produce dos productos: Aditivo para combustible (A) cuyo margen de contribuación unitario es de 40 dólares y Base disolvente (B) con margen de contribución unitario de 30 dólares.\n",
        "\n",
        "**Necesidad de materia prima por tonelada de producto**\n",
        "\n",
        "| Producto | Materia Prima 1 | Materia Prima 2 | Materia Prima 3 |\n",
        "|---------------|---------|-------------------|--------|\n",
        "|A |0,4 | 0| 0,6|\n",
        "|B |0,5 | 0,2|0,3|\n",
        "\n",
        "**Disponibilidad de materias primas**\n",
        "\n",
        "| Materia Prima| Disponibilidad | \n",
        "|---------------|---------|\n",
        "|1 |20 |\n",
        "|2 |5 | \n",
        "|3 |21 | \n",
        "\n",
        "Otro supuesto del modelo es que se vende todo lo que se produce (no hay stocks)."
      ],
      "metadata": {
        "id": "dcfdGQklpHjg"
      }
    },
    {
      "cell_type": "markdown",
      "source": [
        "## Definir el modelo"
      ],
      "metadata": {
        "id": "Q4oCZWJONT_c"
      }
    },
    {
      "cell_type": "markdown",
      "source": [
        "Se contruye el modelo, que busque minimizar (LpMinimize) o maximizar (LpMaximize). En este caso es un problema de maximización del margen de contribución total."
      ],
      "metadata": {
        "id": "crB_k8WZjG-R"
      }
    },
    {
      "cell_type": "code",
      "source": [
        "modelo = LpProblem(\"Problema_de_Producción\", sense=LpMaximize)"
      ],
      "metadata": {
        "id": "JGLwkW9ONWB9"
      },
      "execution_count": 3,
      "outputs": []
    },
    {
      "cell_type": "markdown",
      "source": [
        "##Crear las variables de decisión"
      ],
      "metadata": {
        "id": "-fqoEsX7ubUN"
      }
    },
    {
      "cell_type": "markdown",
      "source": [
        "Para este problema son la cantidad de producto \"A\" y \"B\" a producir. El parámetro `lowBound` indica la cantidad mínima a producir, que en este ejemplo es 0 (no podemos producir cantidades negativas) y no hay cantidad máxima a priori,  por lo cual no usamos el parámetro `upBound`. Por otra parte, el parámetro `cat` representa el tipo de dato, que puede ser entero, continuo o binario; la cantidad a producir es siempre un dato entero."
      ],
      "metadata": {
        "id": "nZE5aftAuvmH"
      }
    },
    {
      "cell_type": "code",
      "source": [
        "A = LpVariable(\"A\", lowBound=0, cat=\"Integer\")\n",
        "B = LpVariable(\"B\", lowBound=0, cat=\"Integer\")"
      ],
      "metadata": {
        "id": "0_ZQN0dDNs3A"
      },
      "execution_count": 4,
      "outputs": []
    },
    {
      "cell_type": "markdown",
      "source": [
        "##Definir la función objetivo "
      ],
      "metadata": {
        "id": "iAH4C5CRu6Mb"
      }
    },
    {
      "cell_type": "markdown",
      "source": [
        "Se agrega la función objetivo al modelo usando el operador de asignación `+=`"
      ],
      "metadata": {
        "id": "jTomwKTmwnQs"
      }
    },
    {
      "cell_type": "code",
      "source": [
        "modelo += 40*A + 30*B "
      ],
      "metadata": {
        "id": "DXSnPDumN0vT"
      },
      "execution_count": 5,
      "outputs": []
    },
    {
      "cell_type": "markdown",
      "source": [
        "##Agregar las restricciones"
      ],
      "metadata": {
        "id": "g0VPvGayu-0E"
      }
    },
    {
      "cell_type": "markdown",
      "source": [
        "Las restricciones, así como el objetivo, agregados al modelo también deben estar expresadas en términos de las variables de decisión. Del mismo modo que definimos la función objetivo, se usa el operador de asignación `+=`, de este modo lo que se encuentra a la derecha de la expresión matemática se almacena (agrega) en la variable \"modelo\". Note que a diferencia de la variable objetivo, las restricciones son inecuaciones, es decir, usan operadores lógicos como `<`, `>`, `<=`, `>=`."
      ],
      "metadata": {
        "id": "QLrzizwuwUJi"
      }
    },
    {
      "cell_type": "code",
      "source": [
        "#material 1\n",
        "modelo += 0.4*A + 0.5*B <= 20 \n",
        "#material 2\n",
        "modelo += 0.2*B <= 5\n",
        "#material 3\n",
        "modelo += 0.6*A + 0.3*B <= 21"
      ],
      "metadata": {
        "id": "A5EVs7cuOIh-"
      },
      "execution_count": 6,
      "outputs": []
    },
    {
      "cell_type": "markdown",
      "source": [
        "##Resolver el modelo"
      ],
      "metadata": {
        "id": "buQo6OgYvi9P"
      }
    },
    {
      "cell_type": "markdown",
      "source": [
        "Una vez definido el modelo, las variables de decisión, función objetivo y restricciones se procede a resolver el modelo usando algún método de optimización. De este modo, la mejor solución posible es identificada. "
      ],
      "metadata": {
        "id": "nb7z3phexjDY"
      }
    },
    {
      "cell_type": "code",
      "source": [
        "#Resolver el modelo:\n",
        "modelo.solve()\n",
        "#Comprobar el status de la solución alcanzada:\n",
        "print (\"Status:\", LpStatus[modelo.status])"
      ],
      "metadata": {
        "colab": {
          "base_uri": "https://localhost:8080/"
        },
        "id": "5Cb3y3utPLoy",
        "outputId": "c4cbbb5c-3688-434c-807f-da2dee7a6f4d"
      },
      "execution_count": 7,
      "outputs": [
        {
          "output_type": "stream",
          "name": "stdout",
          "text": [
            "Status: Optimal\n"
          ]
        }
      ]
    },
    {
      "cell_type": "markdown",
      "source": [
        "`LpStatus` muestra el status de la solución alcanzada, en este caso, la solución alcanzada es la óptima."
      ],
      "metadata": {
        "id": "30w_dDurxtDm"
      }
    },
    {
      "cell_type": "code",
      "source": [
        "print(\"Producir de A: \", A.varValue)\n",
        "print(\"Producir de B: \", B.varValue)"
      ],
      "metadata": {
        "colab": {
          "base_uri": "https://localhost:8080/"
        },
        "id": "MhAX9K5yQSda",
        "outputId": "2f37021a-c2bf-4eaf-c722-c2e0157e09af"
      },
      "execution_count": 8,
      "outputs": [
        {
          "output_type": "stream",
          "name": "stdout",
          "text": [
            "Producir de A:  25.0\n",
            "Producir de B:  20.0\n"
          ]
        }
      ]
    },
    {
      "cell_type": "markdown",
      "source": [
        "La solución que me permite maximizar el margen de contribución total es producir 35 unidades de \"A\" y 0 unidades de \"B\"."
      ],
      "metadata": {
        "id": "up5E1bq6w8CN"
      }
    },
    {
      "cell_type": "code",
      "source": [
        "print(\"Beneficio máximo: \", value(modelo.objective))"
      ],
      "metadata": {
        "colab": {
          "base_uri": "https://localhost:8080/"
        },
        "id": "XSq558s-xG-u",
        "outputId": "bb965ecb-a762-48e6-c894-db6aed0feaf9"
      },
      "execution_count": 9,
      "outputs": [
        {
          "output_type": "stream",
          "name": "stdout",
          "text": [
            "Beneficio máximo:  1600.0\n"
          ]
        }
      ]
    },
    {
      "cell_type": "code",
      "source": [
        "40*25+30*20"
      ],
      "metadata": {
        "colab": {
          "base_uri": "https://localhost:8080/"
        },
        "id": "w5Sucey4yUwH",
        "outputId": "6b0cca8d-4ad1-4417-b99e-ffc81dbd5966"
      },
      "execution_count": 10,
      "outputs": [
        {
          "output_type": "execute_result",
          "data": {
            "text/plain": [
              "1600"
            ]
          },
          "metadata": {},
          "execution_count": 10
        }
      ]
    },
    {
      "cell_type": "markdown",
      "source": [
        "El margen de contribución total obtenido para las cantidades producidas y vendidas es de 1.400 dólares"
      ],
      "metadata": {
        "id": "pmb1wj9jxH8U"
      }
    }
  ]
}